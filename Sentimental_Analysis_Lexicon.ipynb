{
 "cells": [
  {
   "cell_type": "code",
   "execution_count": 18,
   "metadata": {},
   "outputs": [
    {
     "name": "stdout",
     "output_type": "stream",
     "text": [
      "@VOAStevenson \"Love and compassion are necessities, not luxuries. Without them, humanity cannot survive.\" - His Hol… https://t.co/gMAM9MvLtA\n",
      "Sentiment(polarity=0.5, subjectivity=0.6)\n",
      "RT @rmsatan: se continuar nesse ritmo fake love nao vai bater o record de dna, o youtube atrapalhou muito isso, ao invés dele ser prestativ…\n",
      "Sentiment(polarity=0.0, subjectivity=0.8)\n",
      "RT @menggalurks: Top Philippine love teams according to Twitter — 1. #AlDub \n",
      "\n",
      "© https://t.co/FrtH6D4tO0\n",
      "\n",
      "#ALDUBAngAmingMahal https://t.co/A…\n",
      "Sentiment(polarity=0.5, subjectivity=0.55)\n",
      "RT @bts_bighit: [#오늘의방탄] 아미들과 함께 역사를 만들어갑니다😉 빌보드에서 &lt;Fake Love&gt; 첫 방송! 여러분들의 큰 환호로 잘 마칠 수 있었습니다. 빌보드에 와준 모든 아미들, 생중계로 봐주신, 그리고 마음으로 응원해준 모든 아…\n",
      "Sentiment(polarity=-0.9375, subjectivity=1.0)\n",
      "RT @voguecypher: I was worried because I thought yoongi kept doing some kind of gang sign but turns out the kind hearted king of rap was pr…\n",
      "Sentiment(polarity=0.6, subjectivity=0.9)\n",
      "RT @snowberrytae: Please notice the way Taehyung was looking at the crowd while touching his heart, he seems so proud and grateful to be th…\n",
      "Sentiment(polarity=0.65, subjectivity=0.75)\n",
      "RT @nayutle: his laugh ahsjkd I love him https://t.co/gvbNfJ6dUs\n",
      "Sentiment(polarity=0.4, subjectivity=0.35)\n",
      "RT @born_aRMy_: 유투브 좋아요 100만까지 한국 최단 기록\n",
      "1위: Fake love 39분\n",
      "2위: Singularity 1시간 29분\n",
      "3위: 백일몽 1시간 43분 \n",
      "4위: MIC Drop 3시간 50분\n",
      "5위: DNA 7시간 53분\n",
      "\n",
      "아ㅋ…\n",
      "Sentiment(polarity=0.0, subjectivity=0.8)\n",
      "RT @lildurk: Who love you when no one there!!!!!!!\n",
      "Sentiment(polarity=1.0, subjectivity=0.6)\n",
      "RT @palestilian: i love you bitchhhh, i ain’t ever gon stop  loving you... bitchhhh https://t.co/xLiSSvZ2Hh\n",
      "Sentiment(polarity=0.55, subjectivity=0.7749999999999999)\n",
      "RT @sequence_jk: 180520 fake love #BTSBBMAs #jungkook #정국 #방탄소년단 #BTS https://t.co/JPC7x4usSo\n",
      "Sentiment(polarity=0.0, subjectivity=0.8)\n",
      "RT @NipahDUBS: A thread about Tangled no one asked for and why I love it\n",
      "\n",
      "Tangled will forever be my favorite 3D animated movie for its sub…\n",
      "Sentiment(polarity=0.5, subjectivity=0.8)\n",
      "RT @prchenlegend: tbh-to be honest\n",
      "omg-oh my god\n",
      "wtf-what the fuck\n",
      "ily-i love you\n",
      "ty-thank you\n",
      "brb- be right back\n",
      "stfu- shut the fuck up\n",
      "om…\n",
      "Sentiment(polarity=0.0976190476190476, subjectivity=0.5392857142857143)\n",
      "RT @voguecypher: I was worried because I thought yoongi kept doing some kind of gang sign but turns out the kind hearted king of rap was pr…\n",
      "Sentiment(polarity=0.6, subjectivity=0.9)\n",
      "Noel Gallagher's High Flying Birds _ All You Need Is Love https://t.co/9gkZm2CR30 via @YouTube\n",
      "Sentiment(polarity=0.33, subjectivity=0.57)\n"
     ]
    }
   ],
   "source": [
    "import tweepy\n",
    "from textblob import TextBlob\n",
    "\n",
    "# All APi Keys \n",
    "consumer_key = ''\n",
    "consumer_secret = ''\n",
    "\n",
    "access_token = ''\n",
    "access_token_secret= ''\n",
    "\n",
    "# authorise All Keys and Tokens With API\n",
    "auth = tweepy.OAuthHandler(consumer_key, consumer_secret)\n",
    "auth.set_access_token(access_token, access_token_secret)\n",
    "\n",
    "api = tweepy.API(auth)\n",
    "\n",
    "public_tweets = api.search('Love')\n",
    "\n",
    "# loop through all tweets with 'public_tweets' var is set to\n",
    "for tweet in public_tweets:\n",
    "    print(tweet.text)\n",
    "    #Using a Lexicon Approch determine the attitude of a speaker, writer, or other subject with respect to some topic\n",
    "    analysis = TextBlob(tweet.text)\n",
    "    \n",
    "    print(analysis.sentiment)\n",
    "    \n",
    "\n"
   ]
  },
  {
   "cell_type": "code",
   "execution_count": null,
   "metadata": {},
   "outputs": [],
   "source": []
  },
  {
   "cell_type": "code",
   "execution_count": null,
   "metadata": {},
   "outputs": [],
   "source": []
  }
 ],
 "metadata": {
  "kernelspec": {
   "display_name": "Python 3",
   "language": "python",
   "name": "python3"
  },
  "language_info": {
   "codemirror_mode": {
    "name": "ipython",
    "version": 3
   },
   "file_extension": ".py",
   "mimetype": "text/x-python",
   "name": "python",
   "nbconvert_exporter": "python",
   "pygments_lexer": "ipython3",
   "version": "3.6.4"
  }
 },
 "nbformat": 4,
 "nbformat_minor": 2
}
